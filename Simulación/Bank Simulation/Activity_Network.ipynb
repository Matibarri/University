{
  "nbformat": 4,
  "nbformat_minor": 0,
  "metadata": {
    "orig_nbformat": 2,
    "colab": {
      "name": "Activity Network.ipynb",
      "provenance": []
    },
    "kernelspec": {
      "name": "python3",
      "display_name": "Python 3"
    }
  },
  "cells": [
    {
      "cell_type": "markdown",
      "metadata": {
        "id": "DCDcxU37NoUO"
      },
      "source": [
        "# Simulating an Activity Network using Simpy and Networkx\n",
        "\n",
        "Firts, you need to install [simpy](https://simpy.readthedocs.io/en/latest/) and [networkx](https://networkx.github.io/)"
      ]
    },
    {
      "cell_type": "code",
      "metadata": {
        "id": "YHtJjcAWNdAo",
        "colab": {
          "base_uri": "https://localhost:8080/",
          "height": 140
        },
        "outputId": "2bb8a945-f51a-4ef5-e847-fe3cb6459110"
      },
      "source": [
        "!pip install simpy\n",
        "!pip install networkx"
      ],
      "execution_count": null,
      "outputs": [
        {
          "output_type": "stream",
          "text": [
            "Collecting simpy\n",
            "  Downloading https://files.pythonhosted.org/packages/20/f9/874b0bab83406827db93292a5bbe5acb5c18e3cea665b2f6e053292cb687/simpy-4.0.1-py2.py3-none-any.whl\n",
            "Installing collected packages: simpy\n",
            "Successfully installed simpy-4.0.1\n",
            "Requirement already satisfied: networkx in /usr/local/lib/python3.6/dist-packages (2.5)\n",
            "Requirement already satisfied: decorator>=4.3.0 in /usr/local/lib/python3.6/dist-packages (from networkx) (4.4.2)\n"
          ],
          "name": "stdout"
        }
      ]
    },
    {
      "cell_type": "markdown",
      "metadata": {
        "id": "F2bev5MENdAs"
      },
      "source": [
        " Now, these are the basic libraries we will need for the model"
      ]
    },
    {
      "cell_type": "code",
      "metadata": {
        "id": "xzkWKxF2NdAs",
        "colab": {
          "base_uri": "https://localhost:8080/",
          "height": 71
        },
        "outputId": "c84f5100-fb69-4149-ae1a-8644dbcaa737"
      },
      "source": [
        "import random \n",
        "import matplotlib.pyplot as plt\n",
        "import seaborn as sns\n",
        "sns.set(context='talk',style='whitegrid',font='serif')\n",
        "import simpy\n",
        "import networkx as nx\n"
      ],
      "execution_count": null,
      "outputs": [
        {
          "output_type": "stream",
          "text": [
            "/usr/local/lib/python3.6/dist-packages/statsmodels/tools/_testing.py:19: FutureWarning: pandas.util.testing is deprecated. Use the functions in the public API at pandas.testing instead.\n",
            "  import pandas.util.testing as tm\n"
          ],
          "name": "stderr"
        }
      ]
    },
    {
      "cell_type": "markdown",
      "metadata": {
        "id": "6VpBSuACNdAv"
      },
      "source": [
        " Out of the required libraries, I want to highlight the use of networkx which we will use\n",
        "to build the project's network. Besides, it will allow us to keep track of all predecessor activities.\n",
        " Now, we have to create several classes to build the activity network."
      ]
    },
    {
      "cell_type": "code",
      "metadata": {
        "id": "EtO-8yAvNdAv"
      },
      "source": [
        "class ActivityProcess(object):\n",
        "    \"\"\"\n",
        "    ActivityProcess \"This class controls the execution of each process. Firts, based on precedence\n",
        "    it will evaluate that all the required predecessor events are finalized. Next, the particular\n",
        "    activity will be executed (timed-out); and then, the activity is marked as completed\"\n",
        "\n",
        "    :param object: the root object\n",
        "    :type object: object\n",
        "    \"\"\"\n",
        "    def __init__(self, env, name):\n",
        "        \"\"\"\n",
        "        __init__ This is the class's constructor that sets up the process governing each activity\n",
        "\n",
        "        :param env: A simpy environment\n",
        "        :type env: Simpy object\n",
        "        :param name: The name of the activity\n",
        "        :type name: string\n",
        "        \"\"\"\n",
        "        self.env = env\n",
        "        self.name = name\n",
        "        \n",
        "    def waitup(self,node, myEvent, verbose = False):\n",
        "        \"\"\"\n",
        "        waitup This method keeps track of the project completion at the node level, activating the\n",
        "        proper timeouts depending on the relative completion of the preceding activities\n",
        "\n",
        "        :param node: A reference to the position of this node into the network\n",
        "        :type node: int\n",
        "        :param myEvent: A specific event to be excetuted in the aforementioned position\n",
        "        :type myEvent: CustomEvent\n",
        "        \"\"\"\n",
        "        # PEM illustrating \"waitevent\"# wait for \"myEvent\" to occur\n",
        "        evnt = [e.event for e in myEvent]\n",
        "        yield self.env.all_of(evnt)\n",
        "        if verbose:\n",
        "            print(\"The activating event(s) were %s\" %([x.name for x in myEvent]))\n",
        "        tis = random.expovariate(1.0)\n",
        "        yield self.env.timeout(tis)\n",
        "        finishtime = self.env.now\n",
        "        if finishtime > SANglobal.finishtime:\n",
        "            SANglobal.finishtime = finishtime\n",
        "        SANglobal.F.nodecomplete[node].event.succeed()\n",
        "\n",
        "class StartSignaller(object):\n",
        "    \"\"\"\n",
        "    StartSignaller This class is required to start the simulation\n",
        "\n",
        "    :param object: the root object\n",
        "    :type object: object\n",
        "    :yield: The device used by simpy to hold on an activity\n",
        "    :rtype: boolan (succeed)\n",
        "    \"\"\"\n",
        "    # here we just schedule some events to fire\n",
        "    def __init__(self, env, name,sEvent):\n",
        "        \"\"\"\n",
        "        __init__ The constructor of the class\n",
        "\n",
        "        :param env: A simpy environment\n",
        "        :type env: Simpy object\n",
        "        :param name: The name of the activity\n",
        "        :type name: string\n",
        "        :param sEvent: A custom event that belongs to the environment\n",
        "        :type sEvent: CustomEvent\n",
        "        \"\"\"\n",
        "        self.env = env\n",
        "        self.name = name\n",
        "        self.sEvent = sEvent\n",
        "        self.env.process(self.startSignals())\n",
        "        \n",
        "    def startSignals(self):\n",
        "        \"\"\"\n",
        "        startSignals A method that start the simulation, having zero yield time and marking \n",
        "        this initial event as succeeeded\n",
        "\n",
        "        :yield: A zero timeout\n",
        "        :rtype: boolean\n",
        "        \"\"\"\n",
        "        yield self.env.timeout(0)\n",
        "        self.sEvent.event.succeed()\n",
        "\n",
        "class CustomEvent(object):\n",
        "    \"\"\"\n",
        "    CustomEvent to represent an specific event that belongs to environment. In our case, it \n",
        "    corresponds to an activity that have to be carried out during the project\n",
        "\n",
        "    :param object: The root object\n",
        "    :type object: object\n",
        "    \"\"\"\n",
        "    def __init__(self, env, name):\n",
        "        \"\"\"\n",
        "        __init__ the constructor of the class\n",
        "\n",
        "        :param env: a Simpy environment\n",
        "        :type env: Simpy object\n",
        "        :param name: The name of the event\n",
        "        :type name: string\n",
        "        \"\"\"\n",
        "        self.name = name\n",
        "        self.env = env\n",
        "        self.event = self.env.event()        \n",
        "        \n",
        "class SANglobal:\n",
        "    \"\"\"\n",
        "     This class is used to hold global variables\n",
        "    \"\"\"\n",
        "    F = nx.DiGraph() # A directed graph\n",
        "    a = 0\n",
        "    b = 1\n",
        "    c = 2\n",
        "    d = 3\n",
        "    inTo = 0\n",
        "    F.add_nodes_from([a, b, c, d]) # add activities to networkx\n",
        "    F.add_edges_from([(a,b), (a,c), (b,c), (b,d), (c,d)]) # activities' connections\n",
        "    finishtime = 0 # counter for the finishing time\n",
        "\n"
      ],
      "execution_count": null,
      "outputs": []
    },
    {
      "cell_type": "markdown",
      "metadata": {
        "id": "NHS6-sfzNdAy"
      },
      "source": [
        " Now, we are ready to evaluate our project. To do so, we will run 1000 realizations to study its stochasticity."
      ]
    },
    {
      "cell_type": "code",
      "metadata": {
        "id": "yzWiGX9aNdAy"
      },
      "source": [
        "finishtimes = []\n",
        "for rep in range(1000):\n",
        "    SANglobal.finishtime = 0 # Global collector for finish time\n",
        "    env = simpy.Environment() # Create simulation environment\n",
        "    SANglobal.F.nodecomplete= [] # set an empty list for nodes\n",
        "    for i in range(len(SANglobal.F.nodes())): # Iterate through the nodes\n",
        "        eventname = 'Complete%1d' % i\n",
        "        SANglobal.F.nodecomplete.append(CustomEvent(env,eventname)) # Add custom events to be triggered\n",
        "\n",
        "    activitynode = [] # set of activities \n",
        "    for i in range(len(SANglobal.F.nodes())): \n",
        "        activityname = 'Activity%1d' % i # add a name for the activity\n",
        "        activitynode.append(ActivityProcess(env,activityname)) # Include the activity on a list\n",
        "        \n",
        "    for i in range(len(SANglobal.F.nodes())):\n",
        "        if i is not SANglobal.inTo:\n",
        "            prenodes = SANglobal.F.predecessors(i) # Save the predecessor nodes to node i\n",
        "            preevents = [SANglobal.F.nodecomplete[j] for j in prenodes] # Select the preevents\n",
        "            env.process(activitynode[i].waitup(i,preevents)) # Activate the waitup for the specific event\n",
        "            \n",
        "    startevent = CustomEvent(env,'Start') # Create a start event\n",
        "    sstart = StartSignaller(env,'Signal',startevent).startSignals() # set the event flag to succeed \n",
        "    env.process(activitynode[SANglobal.inTo].waitup(SANglobal.inTo, [startevent]))  \n",
        "    \n",
        "    env.run(until=50)\n",
        "    finishtimes.append(SANglobal.finishtime) # Append the project's completion time\n"
      ],
      "execution_count": null,
      "outputs": []
    },
    {
      "cell_type": "markdown",
      "metadata": {
        "id": "-1TlP3OCNdA0"
      },
      "source": [
        " Finally, we are going to plot the results."
      ]
    },
    {
      "cell_type": "code",
      "metadata": {
        "tags": [],
        "id": "H4YfAQ0rNdA0",
        "colab": {
          "base_uri": "https://localhost:8080/",
          "height": 377
        },
        "outputId": "8fbe0dc3-4437-42c0-e06f-3cc2259589e1"
      },
      "source": [
        "plt.figure(figsize=(5,5))\n",
        "plt.hist(finishtimes, bins = 30, density = True, cumulative=True)  \n",
        "plt.hist(finishtimes, bins = 30, density = True, cumulative=False)  \n",
        "plt.xlabel('$Days$')\n",
        "plt.ylabel('$Probability$')\n",
        "plt.title('Completion Time')\n",
        "plt.show()"
      ],
      "execution_count": null,
      "outputs": [
        {
          "output_type": "display_data",
          "data": {
            "image/png": "[encoded data removed]",
            "text/plain": [
              "<Figure size 360x360 with 1 Axes>"
            ]
          },
          "metadata": {
            "tags": []
          }
        }
      ]
    }
  ]
}