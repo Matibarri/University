{
 "cells": [
  {
   "cell_type": "markdown",
   "metadata": {},
   "source": [
    "# A-PIE y refactoring con funciones\n",
    "\n",
    "OOP: Object Oriented Programming\n",
    "A-PIE: Acrónimo de Abstraction, Polymorphism, Inheritance , Encapsulation.\n",
    "Refactoring: Cómo hacer las mismas cosas, pero con menos líneas de código.\n",
    "\n",
    "Abstraction is a process where you show only “relevant” data and “hide” unnecessary details of an object from the user.\n",
    "\n",
    "Encapsulation is:\n",
    "\n",
    "- Binding the data with the code that manipulates it.\n",
    "- It keeps the data and the code safe from external interference\n",
    "- Everyone knows how to access it.\n",
    "- Can be easily used regardless of implementation details.\n",
    "- There shouldn’t any side effects of the code, to the rest of the application.\n",
    "\n",
    "Polymorphism is a object oriented programming feature that allows us to perform a single action in different ways.\n",
    "\n",
    "**Observación**: En python puedes poner todas las clases que quieras en un mismo archivo. No así en otros lenguajes como Java, C++, etc (Una clase, un archivo). Sin embargo, en el caso de tener clases que se relacionan entre sí, se acostumbra a tenerlos en archivos diferentes.\n",
    "\n",
    "**Nota**: Se puede generar un script sólo de funciones, donde se definan procesos independientes de las clases con la cual se trabajarán y así poder reciclar código.\n",
    "https://beginnersbook.com/2013/04/oops-concepts/\n",
    "\n",
    "Data: Los documentos que tienen un \"^\" al inicio, se refiere a que son índices.\n",
    "\n",
    "^VIX: Es un producto financiero derivado. EN EEUU pueden comprar ETF: exchange traded funds que trackea al VIX. \n",
    "El VIX El índice VIX es un indicador que mide la volatilidad en el mercado bursátil estadounidense a los siguientes 30 días. El VIX se considera una señal del sentimiento -o del pesimismo- del mercado en cuanto a las fluctuaciones esperadas.\n",
    "\n",
    "El VIX se basa en las opciones del S&P 500 (Standard & Poor's 500) y es el índice de volatilidad más conocido de los mercados. Específicamente, se trata de un índice que proyecta las perspectivas del mercado en cuanto a la volatilidad futura.\n",
    "\n",
    "Por construcción, el VIX ya tiene parte del efecto de apalancamiento de los productos financieros derivados."
   ]
  },
  {
   "cell_type": "code",
   "execution_count": null,
   "metadata": {},
   "outputs": [],
   "source": []
  }
 ],
 "metadata": {
  "kernelspec": {
   "display_name": "Python 3",
   "language": "python",
   "name": "python3"
  },
  "language_info": {
   "codemirror_mode": {
    "name": "ipython",
    "version": 3
   },
   "file_extension": ".py",
   "mimetype": "text/x-python",
   "name": "python",
   "nbconvert_exporter": "python",
   "pygments_lexer": "ipython3",
   "version": "3.7.6"
  }
 },
 "nbformat": 4,
 "nbformat_minor": 4
}
