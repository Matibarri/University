{
 "cells": [
  {
   "cell_type": "markdown",
   "metadata": {},
   "source": [
    "# Utilidades retenidas v/s Dividendos\n",
    "\n",
    "Una de las primeras controversias en la teoría financiera y su aplicación a la gestión financiera se refiere a qué es lo relevante para los accionistas en la evaluación del patrimonio.\n",
    "\n",
    "Los primeros en formular el marco teórico fueron Modigliani y Miller (1961):\n",
    "\n",
    "- La tesis central de su trabajo es que la política de dividendos es irrelevante para el valor de la empresa, situación que se verifica cuando se cumplen las condiciones de mercados perfectamente competitivos.\n",
    "\n",
    "Referencia: Miller, M., & Modigliani, F. (1961). Dividend policy, growth and the valuation of shares. Journal of Business, 34(4), 411-433.\n",
    "\n",
    "**Observación**: Se sabe que las condiciones perfectamente competitivas es más bien teórico, por lo que la decisión de entrega de dividendos si va a tener relevancia para el valor de la empresa.\n",
    "\n",
    "## Modelo de valoración de acciones de Modigliani y Miller\n",
    "\n",
    "Se asume que los accionistas maximizan su riqueza actual: valor actual de los dividentos que recibirán en el futuro, actualizados a una tasa que ellos exigen a sus inversiones.\n",
    "\n",
    "El modelo supone que la empresa financia sus inversiones futuras sólo con utilidades retenidas.\n",
    "\n",
    "Riqueza/patrimonio de los accionistas:\n",
    "\n",
    "$ V = D_0 + \\frac{D_1}{(1+k_p)} + \\frac{D_2}{(1+k_p)^2} + ... + \\frac{D_n}{(1+k_p)^n} $\n",
    "\n",
    "donde:\n",
    "\n",
    "- $V =$ valor actual de los dividendos.\n",
    "- $D_n =$ dividendos recibidos por el accionista el período $n$.\n",
    "- $k_p =$ rentabilidad exigida por el accionista de largo plazo (propietario)\n",
    "\n",
    "Vamos a estudiar cuál es la política de dividendos y retención de utilidades óptima y cómo ésta afecta en el valor de la empresa.\n",
    "Riqueza del accionista = Valor de la empresa, ya que en una S.A el valor de la empresa está dada por el valor de las acciones de la empresa más los pasivos, pero en este modelo se consideró que eran igual a cero.\n",
    "\n",
    "$D_n =$ dividendos recibidos por el accionista en el período $ n= B_n(1-u)$\n",
    "\n",
    "donde:\n",
    "\n",
    "- $B_n =$ beneficio por acción antes de la retención de utilidades $u$.\n",
    "- $(1-u) =$ proporción de la utilidad que se entrega como dividendos.\n",
    "- $r =$ rentabilidad que ofrece la empresa.\n",
    "\n",
    "## Desarrollo Matemático...\n",
    "\n",
    "## Política Óptima de Dividendos o de Retención de Utilidades.\n",
    "\n",
    "Faltó del min 17:00 de parte I y toda parte II"
   ]
  }
 ],
 "metadata": {
  "kernelspec": {
   "display_name": "Python 3",
   "language": "python",
   "name": "python3"
  },
  "language_info": {
   "codemirror_mode": {
    "name": "ipython",
    "version": 3
   },
   "file_extension": ".py",
   "mimetype": "text/x-python",
   "name": "python",
   "nbconvert_exporter": "python",
   "pygments_lexer": "ipython3",
   "version": "3.7.6"
  }
 },
 "nbformat": 4,
 "nbformat_minor": 4
}
